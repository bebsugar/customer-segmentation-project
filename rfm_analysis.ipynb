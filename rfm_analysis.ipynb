{
 "cells": [
  {
   "cell_type": "markdown",
   "source": [
    "# RFM Analizi ile Müşteri Segmentasyonu"
   ],
   "metadata": {
    "collapsed": false
   }
  },
  {
   "cell_type": "markdown",
   "source": [
    "## İş Problemi\n",
    "* Online ayakkabı mağazası olan FLO müşterilerini segmentlere ayırıp bu segmentlere göre pazarlama stratejileri belirlemek istiyor. Buna yönelik olarak müşterilerin davranışları tanımlanacak ve bu davranışlardaki öbeklenmelere göre gruplar oluşturulacak.\n"
   ],
   "metadata": {
    "collapsed": false
   }
  },
  {
   "cell_type": "markdown",
   "source": [
    "## Veri Seti Hikayesi\n",
    "* Veri seti Flo’dan son alışverişlerini 2020 - 2021 yıllarında OmniChannel (hem online hem offline alışveriş yapan)\n",
    "olarak yapan müşterilerin geçmiş alışveriş davranışlarından elde edilen bilgilerden oluşmaktadır."
   ],
   "metadata": {
    "collapsed": false
   }
  },
  {
   "cell_type": "markdown",
   "source": [
    "* **master_id:** Eşsiz müşteri numarası\n",
    "* **order_channel:** Alışveriş yapılan platforma ait hangi kanalın kullanıldığı (Android, ios, Desktop, Mobile)\n",
    "* **last_order_channel:** En son alışverişin yapıldığı kanal\n",
    "* **first_order_date:** Müşterinin yaptığı ilk alışveriş tarihi\n",
    "* **last_order_date:** Müşterinin yaptığı son alışveriş tarihi\n",
    "* **last_order_date_online:** Müşterinin online platformda yaptığı son alışveriş tarihi\n",
    "* **last_order_date_offline:** Müşterinin offline platformda yaptığı son alışveriş tarihi\n",
    "* **order_num_total_ever_online:** Müşterinin online platformda yaptığı toplam alışveriş sayısı\n",
    "* **order_num_total_ever_offline:** Müşterinin offline'da yaptığı toplam alışveriş sayısı\n",
    "* **customer_value_total_ever_offline:** Müşterinin offline alışverişlerinde ödediği toplam ücret\n",
    "* **customer_value_total_ever_online:** Müşterinin online alışverişlerinde ödediği toplam ücret\n",
    "* **interested_in_categories_12:** Müşterinin son 12 ayda alışveriş yaptığı kategorilerin listesi"
   ],
   "metadata": {
    "collapsed": false
   }
  },
  {
   "cell_type": "markdown",
   "source": [
    " **Görev 1:** Veriyi Anlama ve Hazırlama\n",
    "\n",
    "**Adım 1:** flo_data_20K.csv verisini okuyunuz. Dataframe’in kopyasını oluşturunuz."
   ],
   "metadata": {
    "collapsed": false
   }
  },
  {
   "cell_type": "code",
   "execution_count": 54,
   "outputs": [],
   "source": [
    "import datetime as dt\n",
    "\n",
    "import pandas as pd\n",
    "\n",
    "pd.set_option('display.max_rows', None)\n",
    "pd.set_option('display.max_columns', None)\n",
    "pd.set_option('display.width', 500)"
   ],
   "metadata": {
    "collapsed": false
   }
  },
  {
   "cell_type": "code",
   "execution_count": 55,
   "outputs": [],
   "source": [
    "colors = ['#003f5c', '#2f4b7c', '#665191', '#a05195', '#d45087', '#f95d6a', '#ff7c43', '#ffa600']"
   ],
   "metadata": {
    "collapsed": false
   }
  },
  {
   "cell_type": "code",
   "execution_count": 56,
   "outputs": [],
   "source": [
    "df_ = pd.read_csv('flo_data_20k.csv')\n",
    "df = df_.copy()"
   ],
   "metadata": {
    "collapsed": false
   }
  },
  {
   "cell_type": "markdown",
   "source": [
    "**Adım 2:** Veri setini incele."
   ],
   "metadata": {
    "collapsed": false
   }
  },
  {
   "cell_type": "code",
   "execution_count": 57,
   "outputs": [
    {
     "data": {
      "text/plain": "                              master_id order_channel last_order_channel first_order_date last_order_date last_order_date_online last_order_date_offline  order_num_total_ever_online  order_num_total_ever_offline  customer_value_total_ever_offline  customer_value_total_ever_online       interested_in_categories_12\n0  cc294636-19f0-11eb-8d74-000d3a38a36f   Android App            Offline       2020-10-30      2021-02-26             2021-02-21              2021-02-26                          4.0                           1.0                             139.99                            799.38                           [KADIN]\n1  f431bd5a-ab7b-11e9-a2fc-000d3a38a36f   Android App             Mobile       2017-02-08      2021-02-16             2021-02-16              2020-01-10                         19.0                           2.0                             159.97                           1853.58  [ERKEK, COCUK, KADIN, AKTIFSPOR]\n2  69b69676-1a40-11ea-941b-000d3a38a36f   Android App        Android App       2019-11-27      2020-11-27             2020-11-27              2019-12-01                          3.0                           2.0                             189.97                            395.35                    [ERKEK, KADIN]\n3  1854e56c-491f-11eb-806e-000d3a38a36f   Android App        Android App       2021-01-06      2021-01-17             2021-01-17              2021-01-06                          1.0                           1.0                              39.99                             81.98               [AKTIFCOCUK, COCUK]\n4  d6ea1074-f1f5-11e9-9346-000d3a38a36f       Desktop            Desktop       2019-08-03      2021-03-07             2021-03-07              2019-08-03                          1.0                           1.0                              49.99                            159.99                       [AKTIFSPOR]\n5  e585280e-aae1-11e9-a2fc-000d3a38a36f       Desktop            Offline       2018-11-18      2021-03-13             2018-11-18              2021-03-13                          1.0                           2.0                             150.87                             49.99                           [KADIN]\n6  c445e4ee-6242-11ea-9d1a-000d3a38a36f   Android App        Android App       2020-03-04      2020-10-18             2020-10-18              2020-03-04                          3.0                           1.0                              59.99                            315.94                       [AKTIFSPOR]\n7  3f1b4dc8-8a7d-11ea-8ec0-000d3a38a36f        Mobile            Offline       2020-05-15      2020-08-12             2020-05-15              2020-08-12                          1.0                           1.0                              49.99                            113.64                           [COCUK]\n8  cfbda69e-5b4f-11ea-aca7-000d3a38a36f   Android App        Android App       2020-01-23      2021-03-07             2021-03-07              2020-01-25                          3.0                           2.0                             120.48                            934.21             [ERKEK, COCUK, KADIN]\n9  1143f032-440d-11ea-8b43-000d3a38a36f        Mobile             Mobile       2019-07-30      2020-10-04             2020-10-04              2019-07-30                          1.0                           1.0                              69.98                             95.98                [KADIN, AKTIFSPOR]",
      "text/html": "<div>\n<style scoped>\n    .dataframe tbody tr th:only-of-type {\n        vertical-align: middle;\n    }\n\n    .dataframe tbody tr th {\n        vertical-align: top;\n    }\n\n    .dataframe thead th {\n        text-align: right;\n    }\n</style>\n<table border=\"1\" class=\"dataframe\">\n  <thead>\n    <tr style=\"text-align: right;\">\n      <th></th>\n      <th>master_id</th>\n      <th>order_channel</th>\n      <th>last_order_channel</th>\n      <th>first_order_date</th>\n      <th>last_order_date</th>\n      <th>last_order_date_online</th>\n      <th>last_order_date_offline</th>\n      <th>order_num_total_ever_online</th>\n      <th>order_num_total_ever_offline</th>\n      <th>customer_value_total_ever_offline</th>\n      <th>customer_value_total_ever_online</th>\n      <th>interested_in_categories_12</th>\n    </tr>\n  </thead>\n  <tbody>\n    <tr>\n      <th>0</th>\n      <td>cc294636-19f0-11eb-8d74-000d3a38a36f</td>\n      <td>Android App</td>\n      <td>Offline</td>\n      <td>2020-10-30</td>\n      <td>2021-02-26</td>\n      <td>2021-02-21</td>\n      <td>2021-02-26</td>\n      <td>4.0</td>\n      <td>1.0</td>\n      <td>139.99</td>\n      <td>799.38</td>\n      <td>[KADIN]</td>\n    </tr>\n    <tr>\n      <th>1</th>\n      <td>f431bd5a-ab7b-11e9-a2fc-000d3a38a36f</td>\n      <td>Android App</td>\n      <td>Mobile</td>\n      <td>2017-02-08</td>\n      <td>2021-02-16</td>\n      <td>2021-02-16</td>\n      <td>2020-01-10</td>\n      <td>19.0</td>\n      <td>2.0</td>\n      <td>159.97</td>\n      <td>1853.58</td>\n      <td>[ERKEK, COCUK, KADIN, AKTIFSPOR]</td>\n    </tr>\n    <tr>\n      <th>2</th>\n      <td>69b69676-1a40-11ea-941b-000d3a38a36f</td>\n      <td>Android App</td>\n      <td>Android App</td>\n      <td>2019-11-27</td>\n      <td>2020-11-27</td>\n      <td>2020-11-27</td>\n      <td>2019-12-01</td>\n      <td>3.0</td>\n      <td>2.0</td>\n      <td>189.97</td>\n      <td>395.35</td>\n      <td>[ERKEK, KADIN]</td>\n    </tr>\n    <tr>\n      <th>3</th>\n      <td>1854e56c-491f-11eb-806e-000d3a38a36f</td>\n      <td>Android App</td>\n      <td>Android App</td>\n      <td>2021-01-06</td>\n      <td>2021-01-17</td>\n      <td>2021-01-17</td>\n      <td>2021-01-06</td>\n      <td>1.0</td>\n      <td>1.0</td>\n      <td>39.99</td>\n      <td>81.98</td>\n      <td>[AKTIFCOCUK, COCUK]</td>\n    </tr>\n    <tr>\n      <th>4</th>\n      <td>d6ea1074-f1f5-11e9-9346-000d3a38a36f</td>\n      <td>Desktop</td>\n      <td>Desktop</td>\n      <td>2019-08-03</td>\n      <td>2021-03-07</td>\n      <td>2021-03-07</td>\n      <td>2019-08-03</td>\n      <td>1.0</td>\n      <td>1.0</td>\n      <td>49.99</td>\n      <td>159.99</td>\n      <td>[AKTIFSPOR]</td>\n    </tr>\n    <tr>\n      <th>5</th>\n      <td>e585280e-aae1-11e9-a2fc-000d3a38a36f</td>\n      <td>Desktop</td>\n      <td>Offline</td>\n      <td>2018-11-18</td>\n      <td>2021-03-13</td>\n      <td>2018-11-18</td>\n      <td>2021-03-13</td>\n      <td>1.0</td>\n      <td>2.0</td>\n      <td>150.87</td>\n      <td>49.99</td>\n      <td>[KADIN]</td>\n    </tr>\n    <tr>\n      <th>6</th>\n      <td>c445e4ee-6242-11ea-9d1a-000d3a38a36f</td>\n      <td>Android App</td>\n      <td>Android App</td>\n      <td>2020-03-04</td>\n      <td>2020-10-18</td>\n      <td>2020-10-18</td>\n      <td>2020-03-04</td>\n      <td>3.0</td>\n      <td>1.0</td>\n      <td>59.99</td>\n      <td>315.94</td>\n      <td>[AKTIFSPOR]</td>\n    </tr>\n    <tr>\n      <th>7</th>\n      <td>3f1b4dc8-8a7d-11ea-8ec0-000d3a38a36f</td>\n      <td>Mobile</td>\n      <td>Offline</td>\n      <td>2020-05-15</td>\n      <td>2020-08-12</td>\n      <td>2020-05-15</td>\n      <td>2020-08-12</td>\n      <td>1.0</td>\n      <td>1.0</td>\n      <td>49.99</td>\n      <td>113.64</td>\n      <td>[COCUK]</td>\n    </tr>\n    <tr>\n      <th>8</th>\n      <td>cfbda69e-5b4f-11ea-aca7-000d3a38a36f</td>\n      <td>Android App</td>\n      <td>Android App</td>\n      <td>2020-01-23</td>\n      <td>2021-03-07</td>\n      <td>2021-03-07</td>\n      <td>2020-01-25</td>\n      <td>3.0</td>\n      <td>2.0</td>\n      <td>120.48</td>\n      <td>934.21</td>\n      <td>[ERKEK, COCUK, KADIN]</td>\n    </tr>\n    <tr>\n      <th>9</th>\n      <td>1143f032-440d-11ea-8b43-000d3a38a36f</td>\n      <td>Mobile</td>\n      <td>Mobile</td>\n      <td>2019-07-30</td>\n      <td>2020-10-04</td>\n      <td>2020-10-04</td>\n      <td>2019-07-30</td>\n      <td>1.0</td>\n      <td>1.0</td>\n      <td>69.98</td>\n      <td>95.98</td>\n      <td>[KADIN, AKTIFSPOR]</td>\n    </tr>\n  </tbody>\n</table>\n</div>"
     },
     "execution_count": 57,
     "metadata": {},
     "output_type": "execute_result"
    }
   ],
   "source": [
    "df.head(10)"
   ],
   "metadata": {
    "collapsed": false
   }
  },
  {
   "cell_type": "code",
   "execution_count": 58,
   "outputs": [
    {
     "data": {
      "text/plain": "(19945, 12)"
     },
     "execution_count": 58,
     "metadata": {},
     "output_type": "execute_result"
    }
   ],
   "source": [
    "df.shape"
   ],
   "metadata": {
    "collapsed": false
   }
  },
  {
   "cell_type": "code",
   "execution_count": 59,
   "outputs": [
    {
     "data": {
      "text/plain": "Index(['master_id', 'order_channel', 'last_order_channel', 'first_order_date', 'last_order_date', 'last_order_date_online', 'last_order_date_offline', 'order_num_total_ever_online', 'order_num_total_ever_offline', 'customer_value_total_ever_offline', 'customer_value_total_ever_online', 'interested_in_categories_12'], dtype='object')"
     },
     "execution_count": 59,
     "metadata": {},
     "output_type": "execute_result"
    }
   ],
   "source": [
    "df.columns"
   ],
   "metadata": {
    "collapsed": false
   }
  },
  {
   "cell_type": "code",
   "execution_count": 60,
   "outputs": [
    {
     "data": {
      "text/plain": "                                     count        mean         std    min     25%     50%     75%       max\norder_num_total_ever_online        19945.0    3.110855    4.225647   1.00    1.00    2.00    4.00    200.00\norder_num_total_ever_offline       19945.0    1.913913    2.062880   1.00    1.00    1.00    2.00    109.00\ncustomer_value_total_ever_offline  19945.0  253.922597  301.532853  10.00   99.99  179.98  319.97  18119.14\ncustomer_value_total_ever_online   19945.0  497.321690  832.601886  12.99  149.98  286.46  578.44  45220.13",
      "text/html": "<div>\n<style scoped>\n    .dataframe tbody tr th:only-of-type {\n        vertical-align: middle;\n    }\n\n    .dataframe tbody tr th {\n        vertical-align: top;\n    }\n\n    .dataframe thead th {\n        text-align: right;\n    }\n</style>\n<table border=\"1\" class=\"dataframe\">\n  <thead>\n    <tr style=\"text-align: right;\">\n      <th></th>\n      <th>count</th>\n      <th>mean</th>\n      <th>std</th>\n      <th>min</th>\n      <th>25%</th>\n      <th>50%</th>\n      <th>75%</th>\n      <th>max</th>\n    </tr>\n  </thead>\n  <tbody>\n    <tr>\n      <th>order_num_total_ever_online</th>\n      <td>19945.0</td>\n      <td>3.110855</td>\n      <td>4.225647</td>\n      <td>1.00</td>\n      <td>1.00</td>\n      <td>2.00</td>\n      <td>4.00</td>\n      <td>200.00</td>\n    </tr>\n    <tr>\n      <th>order_num_total_ever_offline</th>\n      <td>19945.0</td>\n      <td>1.913913</td>\n      <td>2.062880</td>\n      <td>1.00</td>\n      <td>1.00</td>\n      <td>1.00</td>\n      <td>2.00</td>\n      <td>109.00</td>\n    </tr>\n    <tr>\n      <th>customer_value_total_ever_offline</th>\n      <td>19945.0</td>\n      <td>253.922597</td>\n      <td>301.532853</td>\n      <td>10.00</td>\n      <td>99.99</td>\n      <td>179.98</td>\n      <td>319.97</td>\n      <td>18119.14</td>\n    </tr>\n    <tr>\n      <th>customer_value_total_ever_online</th>\n      <td>19945.0</td>\n      <td>497.321690</td>\n      <td>832.601886</td>\n      <td>12.99</td>\n      <td>149.98</td>\n      <td>286.46</td>\n      <td>578.44</td>\n      <td>45220.13</td>\n    </tr>\n  </tbody>\n</table>\n</div>"
     },
     "execution_count": 60,
     "metadata": {},
     "output_type": "execute_result"
    }
   ],
   "source": [
    "df.describe().T"
   ],
   "metadata": {
    "collapsed": false
   }
  },
  {
   "cell_type": "code",
   "execution_count": 61,
   "outputs": [
    {
     "data": {
      "text/plain": "master_id                            0\norder_channel                        0\nlast_order_channel                   0\nfirst_order_date                     0\nlast_order_date                      0\nlast_order_date_online               0\nlast_order_date_offline              0\norder_num_total_ever_online          0\norder_num_total_ever_offline         0\ncustomer_value_total_ever_offline    0\ncustomer_value_total_ever_online     0\ninterested_in_categories_12          0\ndtype: int64"
     },
     "execution_count": 61,
     "metadata": {},
     "output_type": "execute_result"
    }
   ],
   "source": [
    "df.isnull().sum()"
   ],
   "metadata": {
    "collapsed": false
   }
  },
  {
   "cell_type": "code",
   "execution_count": 62,
   "outputs": [
    {
     "data": {
      "text/plain": "master_id                             object\norder_channel                         object\nlast_order_channel                    object\nfirst_order_date                      object\nlast_order_date                       object\nlast_order_date_online                object\nlast_order_date_offline               object\norder_num_total_ever_online          float64\norder_num_total_ever_offline         float64\ncustomer_value_total_ever_offline    float64\ncustomer_value_total_ever_online     float64\ninterested_in_categories_12           object\ndtype: object"
     },
     "execution_count": 62,
     "metadata": {},
     "output_type": "execute_result"
    }
   ],
   "source": [
    "df.dtypes"
   ],
   "metadata": {
    "collapsed": false
   }
  },
  {
   "cell_type": "markdown",
   "source": [
    "**Adım 3:** Omnichannel müşterilerin hem online'dan hem de offline platformlardan alışveriş yaptığını ifade etmektedir. Her bir müşterinin toplam alışveriş sayısı ve harcaması için yeni değişkenler oluşturunuz."
   ],
   "metadata": {
    "collapsed": false
   }
  },
  {
   "cell_type": "code",
   "execution_count": 63,
   "outputs": [],
   "source": [
    "df['total_transaction'] = df['order_num_total_ever_online'] + df['order_num_total_ever_offline']\n",
    "df['total_price'] = (df['order_num_total_ever_online'] * df['customer_value_total_ever_online']) + (\n",
    "        df['order_num_total_ever_offline'] * df['customer_value_total_ever_offline'])"
   ],
   "metadata": {
    "collapsed": false
   }
  },
  {
   "cell_type": "code",
   "execution_count": 64,
   "outputs": [
    {
     "data": {
      "text/plain": "                              master_id order_channel last_order_channel first_order_date last_order_date last_order_date_online last_order_date_offline  order_num_total_ever_online  order_num_total_ever_offline  customer_value_total_ever_offline  customer_value_total_ever_online       interested_in_categories_12  total_transaction  total_price\n0  cc294636-19f0-11eb-8d74-000d3a38a36f   Android App            Offline       2020-10-30      2021-02-26             2021-02-21              2021-02-26                          4.0                           1.0                             139.99                            799.38                           [KADIN]                5.0      3337.51\n1  f431bd5a-ab7b-11e9-a2fc-000d3a38a36f   Android App             Mobile       2017-02-08      2021-02-16             2021-02-16              2020-01-10                         19.0                           2.0                             159.97                           1853.58  [ERKEK, COCUK, KADIN, AKTIFSPOR]               21.0     35537.96\n2  69b69676-1a40-11ea-941b-000d3a38a36f   Android App        Android App       2019-11-27      2020-11-27             2020-11-27              2019-12-01                          3.0                           2.0                             189.97                            395.35                    [ERKEK, KADIN]                5.0      1565.99\n3  1854e56c-491f-11eb-806e-000d3a38a36f   Android App        Android App       2021-01-06      2021-01-17             2021-01-17              2021-01-06                          1.0                           1.0                              39.99                             81.98               [AKTIFCOCUK, COCUK]                2.0       121.97\n4  d6ea1074-f1f5-11e9-9346-000d3a38a36f       Desktop            Desktop       2019-08-03      2021-03-07             2021-03-07              2019-08-03                          1.0                           1.0                              49.99                            159.99                       [AKTIFSPOR]                2.0       209.98",
      "text/html": "<div>\n<style scoped>\n    .dataframe tbody tr th:only-of-type {\n        vertical-align: middle;\n    }\n\n    .dataframe tbody tr th {\n        vertical-align: top;\n    }\n\n    .dataframe thead th {\n        text-align: right;\n    }\n</style>\n<table border=\"1\" class=\"dataframe\">\n  <thead>\n    <tr style=\"text-align: right;\">\n      <th></th>\n      <th>master_id</th>\n      <th>order_channel</th>\n      <th>last_order_channel</th>\n      <th>first_order_date</th>\n      <th>last_order_date</th>\n      <th>last_order_date_online</th>\n      <th>last_order_date_offline</th>\n      <th>order_num_total_ever_online</th>\n      <th>order_num_total_ever_offline</th>\n      <th>customer_value_total_ever_offline</th>\n      <th>customer_value_total_ever_online</th>\n      <th>interested_in_categories_12</th>\n      <th>total_transaction</th>\n      <th>total_price</th>\n    </tr>\n  </thead>\n  <tbody>\n    <tr>\n      <th>0</th>\n      <td>cc294636-19f0-11eb-8d74-000d3a38a36f</td>\n      <td>Android App</td>\n      <td>Offline</td>\n      <td>2020-10-30</td>\n      <td>2021-02-26</td>\n      <td>2021-02-21</td>\n      <td>2021-02-26</td>\n      <td>4.0</td>\n      <td>1.0</td>\n      <td>139.99</td>\n      <td>799.38</td>\n      <td>[KADIN]</td>\n      <td>5.0</td>\n      <td>3337.51</td>\n    </tr>\n    <tr>\n      <th>1</th>\n      <td>f431bd5a-ab7b-11e9-a2fc-000d3a38a36f</td>\n      <td>Android App</td>\n      <td>Mobile</td>\n      <td>2017-02-08</td>\n      <td>2021-02-16</td>\n      <td>2021-02-16</td>\n      <td>2020-01-10</td>\n      <td>19.0</td>\n      <td>2.0</td>\n      <td>159.97</td>\n      <td>1853.58</td>\n      <td>[ERKEK, COCUK, KADIN, AKTIFSPOR]</td>\n      <td>21.0</td>\n      <td>35537.96</td>\n    </tr>\n    <tr>\n      <th>2</th>\n      <td>69b69676-1a40-11ea-941b-000d3a38a36f</td>\n      <td>Android App</td>\n      <td>Android App</td>\n      <td>2019-11-27</td>\n      <td>2020-11-27</td>\n      <td>2020-11-27</td>\n      <td>2019-12-01</td>\n      <td>3.0</td>\n      <td>2.0</td>\n      <td>189.97</td>\n      <td>395.35</td>\n      <td>[ERKEK, KADIN]</td>\n      <td>5.0</td>\n      <td>1565.99</td>\n    </tr>\n    <tr>\n      <th>3</th>\n      <td>1854e56c-491f-11eb-806e-000d3a38a36f</td>\n      <td>Android App</td>\n      <td>Android App</td>\n      <td>2021-01-06</td>\n      <td>2021-01-17</td>\n      <td>2021-01-17</td>\n      <td>2021-01-06</td>\n      <td>1.0</td>\n      <td>1.0</td>\n      <td>39.99</td>\n      <td>81.98</td>\n      <td>[AKTIFCOCUK, COCUK]</td>\n      <td>2.0</td>\n      <td>121.97</td>\n    </tr>\n    <tr>\n      <th>4</th>\n      <td>d6ea1074-f1f5-11e9-9346-000d3a38a36f</td>\n      <td>Desktop</td>\n      <td>Desktop</td>\n      <td>2019-08-03</td>\n      <td>2021-03-07</td>\n      <td>2021-03-07</td>\n      <td>2019-08-03</td>\n      <td>1.0</td>\n      <td>1.0</td>\n      <td>49.99</td>\n      <td>159.99</td>\n      <td>[AKTIFSPOR]</td>\n      <td>2.0</td>\n      <td>209.98</td>\n    </tr>\n  </tbody>\n</table>\n</div>"
     },
     "execution_count": 64,
     "metadata": {},
     "output_type": "execute_result"
    }
   ],
   "source": [
    "df.head()"
   ],
   "metadata": {
    "collapsed": false
   }
  },
  {
   "cell_type": "markdown",
   "source": [
    "**Adım 4:** Değişken tiplerini inceleyiniz. Tarih ifade eden değişkenlerin tipini date'e çeviriniz."
   ],
   "metadata": {
    "collapsed": false
   }
  },
  {
   "cell_type": "code",
   "execution_count": 65,
   "outputs": [],
   "source": [
    "df['first_order_date'] = pd.to_datetime(df['first_order_date'])\n",
    "df['last_order_date'] = pd.to_datetime(df['last_order_date'])\n",
    "df['last_order_date_online'] = pd.to_datetime(df['last_order_date_online'])\n",
    "df['last_order_date_offline'] = pd.to_datetime(df['last_order_date_offline'])"
   ],
   "metadata": {
    "collapsed": false
   }
  },
  {
   "cell_type": "code",
   "execution_count": 66,
   "outputs": [
    {
     "data": {
      "text/plain": "master_id                                    object\norder_channel                                object\nlast_order_channel                           object\nfirst_order_date                     datetime64[ns]\nlast_order_date                      datetime64[ns]\nlast_order_date_online               datetime64[ns]\nlast_order_date_offline              datetime64[ns]\norder_num_total_ever_online                 float64\norder_num_total_ever_offline                float64\ncustomer_value_total_ever_offline           float64\ncustomer_value_total_ever_online            float64\ninterested_in_categories_12                  object\ntotal_transaction                           float64\ntotal_price                                 float64\ndtype: object"
     },
     "execution_count": 66,
     "metadata": {},
     "output_type": "execute_result"
    }
   ],
   "source": [
    "df.dtypes"
   ],
   "metadata": {
    "collapsed": false
   }
  },
  {
   "cell_type": "markdown",
   "source": [
    "**Adım 5:** Alışveriş kanallarındaki müşteri sayısının, toplam alınan ürün sayısının ve toplam harcamaların dağılımına bakınız."
   ],
   "metadata": {
    "collapsed": false
   }
  },
  {
   "cell_type": "code",
   "execution_count": 67,
   "outputs": [
    {
     "data": {
      "text/plain": "19945"
     },
     "execution_count": 67,
     "metadata": {},
     "output_type": "execute_result"
    }
   ],
   "source": [
    "df.master_id.nunique()"
   ],
   "metadata": {
    "collapsed": false
   }
  },
  {
   "cell_type": "code",
   "execution_count": 68,
   "outputs": [
    {
     "data": {
      "text/plain": "count    1.994500e+04\nmean     5.334164e+03\nstd      7.301549e+04\nmin      4.498000e+01\n25%      4.698900e+02\n50%      1.144780e+03\n75%      3.062980e+03\nmax      9.045396e+06\nName: total_price, dtype: float64"
     },
     "execution_count": 68,
     "metadata": {},
     "output_type": "execute_result"
    }
   ],
   "source": [
    "df.total_price.describe()"
   ],
   "metadata": {
    "collapsed": false
   }
  },
  {
   "cell_type": "markdown",
   "source": [
    "**Adım 6:** En fazla kazancı getiren ilk 10 müşteriyi sıralayınız."
   ],
   "metadata": {
    "collapsed": false
   }
  },
  {
   "cell_type": "code",
   "execution_count": 69,
   "outputs": [],
   "source": [
    "a = df.sort_values('total_price', ascending=False).head(10)"
   ],
   "metadata": {
    "collapsed": false
   }
  },
  {
   "cell_type": "code",
   "execution_count": 70,
   "outputs": [
    {
     "data": {
      "text/plain": "master_id\n5d1c466a-9cfd-11e9-9897-000d3a38a36f    9045395.94\n73fd19aa-9e37-11e9-9897-000d3a38a36f    2646265.30\nd5ef8058-a5c6-11e9-a2fc-000d3a38a36f    2458213.09\ncba59206-9dd1-11e9-9897-000d3a38a36f    1590242.49\na4d534a2-5b1b-11eb-8dbd-000d3a38a36f    1164967.46\nd696c654-2633-11ea-8e1c-000d3a38a36f    1161772.69\na57f4302-b1a8-11e9-89fa-000d3a38a36f    1116389.10\nfdbe8304-a7ab-11e9-a2fc-000d3a38a36f     733745.73\nfef57ffa-aae6-11e9-a2fc-000d3a38a36f     451814.05\nf7e2335e-a7c4-11e9-a2fc-000d3a38a36f     390931.87\nName: total_price, dtype: float64"
     },
     "execution_count": 70,
     "metadata": {},
     "output_type": "execute_result"
    }
   ],
   "source": [
    "df.groupby(['master_id'])['total_price'].sum().sort_values(ascending=False).head(10)"
   ],
   "metadata": {
    "collapsed": false
   }
  },
  {
   "cell_type": "code",
   "execution_count": 71,
   "outputs": [
    {
     "data": {
      "text/plain": "<AxesSubplot:>"
     },
     "execution_count": 71,
     "metadata": {},
     "output_type": "execute_result"
    },
    {
     "data": {
      "text/plain": "<Figure size 432x288 with 1 Axes>",
      "image/png": "[encoded data removed]"
     },
     "metadata": {},
     "output_type": "display_data"
    }
   ],
   "source": [
    "df.sort_values('total_price', ascending=False).head(10).total_price.plot(kind='bar', color=colors)"
   ],
   "metadata": {
    "collapsed": false
   }
  },
  {
   "cell_type": "markdown",
   "source": [
    "**Adım 7:** En fazla siparişi veren ilk 10 müşteriyi sıralayınız."
   ],
   "metadata": {
    "collapsed": false
   }
  },
  {
   "cell_type": "code",
   "execution_count": 72,
   "outputs": [
    {
     "data": {
      "text/plain": "                                  master_id order_channel last_order_channel first_order_date last_order_date last_order_date_online last_order_date_offline  order_num_total_ever_online  order_num_total_ever_offline  customer_value_total_ever_offline  customer_value_total_ever_online                   interested_in_categories_12  total_transaction  total_price\n11150  5d1c466a-9cfd-11e9-9897-000d3a38a36f   Android App            Desktop       2013-10-11      2021-04-30             2021-04-30              2020-12-24                        200.0                           2.0                             684.97                          45220.13  [AKTIFCOCUK, ERKEK, COCUK, KADIN, AKTIFSPOR]              202.0   9045395.94\n7223   cba59206-9dd1-11e9-9897-000d3a38a36f   Android App        Android App       2013-02-21      2021-05-09             2021-05-09              2020-01-25                        130.0                           1.0                              49.99                          12232.25         [AKTIFCOCUK, ERKEK, KADIN, AKTIFSPOR]              131.0   1590242.49\n8783   a57f4302-b1a8-11e9-89fa-000d3a38a36f   Android App            Offline       2019-08-07      2020-11-04             2020-09-07              2020-11-04                          2.0                         109.0                           10239.46                            143.98  [AKTIFCOCUK, ERKEK, COCUK, KADIN, AKTIFSPOR]              111.0   1116389.10\n2619   fdbe8304-a7ab-11e9-a2fc-000d3a38a36f   Android App            Offline       2018-10-18      2020-06-30             2018-10-18              2020-06-30                          1.0                          87.0                            8432.25                            139.98                                       [ERKEK]               88.0    733745.73\n6322   329968c6-a0e2-11e9-a2fc-000d3a38a36f       Ios App            Ios App       2019-02-14      2021-04-05             2021-04-05              2020-02-17                          2.0                          81.0                            3997.55                            242.81                                       [ERKEK]               83.0    324287.17\n7613   73fd19aa-9e37-11e9-9897-000d3a38a36f       Ios App            Offline       2014-01-14      2021-05-18             2021-01-30              2021-05-18                         81.0                           1.0                            1263.76                          32654.34              [ERKEK, COCUK, KADIN, AKTIFSPOR]               82.0   2646265.30\n9347   44d032ee-a0d4-11e9-a2fc-000d3a38a36f        Mobile             Mobile       2019-02-11      2021-02-11             2021-02-11              2020-12-24                          3.0                          74.0                            4640.77                            543.28                            [KADIN, AKTIFSPOR]               77.0    345046.82\n10954  b27e241a-a901-11e9-a2fc-000d3a38a36f        Mobile             Mobile       2015-09-12      2021-04-01             2021-04-01              2019-10-08                         72.0                           3.0                             292.93                           5004.95         [AKTIFCOCUK, ERKEK, KADIN, AKTIFSPOR]               75.0    361235.19\n8068   d696c654-2633-11ea-8e1c-000d3a38a36f       Ios App            Ios App       2017-05-10      2021-04-13             2021-04-13              2019-08-15                         69.0                           1.0                              82.48                          16836.09  [AKTIFCOCUK, ERKEK, COCUK, KADIN, AKTIFSPOR]               70.0   1161772.69\n7330   a4d534a2-5b1b-11eb-8dbd-000d3a38a36f       Desktop            Desktop       2020-02-16      2021-04-30             2021-04-30              2020-12-18                         66.0                           4.0                             843.68                          17599.89                     [ERKEK, KADIN, AKTIFSPOR]               70.0   1164967.46",
      "text/html": "<div>\n<style scoped>\n    .dataframe tbody tr th:only-of-type {\n        vertical-align: middle;\n    }\n\n    .dataframe tbody tr th {\n        vertical-align: top;\n    }\n\n    .dataframe thead th {\n        text-align: right;\n    }\n</style>\n<table border=\"1\" class=\"dataframe\">\n  <thead>\n    <tr style=\"text-align: right;\">\n      <th></th>\n      <th>master_id</th>\n      <th>order_channel</th>\n      <th>last_order_channel</th>\n      <th>first_order_date</th>\n      <th>last_order_date</th>\n      <th>last_order_date_online</th>\n      <th>last_order_date_offline</th>\n      <th>order_num_total_ever_online</th>\n      <th>order_num_total_ever_offline</th>\n      <th>customer_value_total_ever_offline</th>\n      <th>customer_value_total_ever_online</th>\n      <th>interested_in_categories_12</th>\n      <th>total_transaction</th>\n      <th>total_price</th>\n    </tr>\n  </thead>\n  <tbody>\n    <tr>\n      <th>11150</th>\n      <td>5d1c466a-9cfd-11e9-9897-000d3a38a36f</td>\n      <td>Android App</td>\n      <td>Desktop</td>\n      <td>2013-10-11</td>\n      <td>2021-04-30</td>\n      <td>2021-04-30</td>\n      <td>2020-12-24</td>\n      <td>200.0</td>\n      <td>2.0</td>\n      <td>684.97</td>\n      <td>45220.13</td>\n      <td>[AKTIFCOCUK, ERKEK, COCUK, KADIN, AKTIFSPOR]</td>\n      <td>202.0</td>\n      <td>9045395.94</td>\n    </tr>\n    <tr>\n      <th>7223</th>\n      <td>cba59206-9dd1-11e9-9897-000d3a38a36f</td>\n      <td>Android App</td>\n      <td>Android App</td>\n      <td>2013-02-21</td>\n      <td>2021-05-09</td>\n      <td>2021-05-09</td>\n      <td>2020-01-25</td>\n      <td>130.0</td>\n      <td>1.0</td>\n      <td>49.99</td>\n      <td>12232.25</td>\n      <td>[AKTIFCOCUK, ERKEK, KADIN, AKTIFSPOR]</td>\n      <td>131.0</td>\n      <td>1590242.49</td>\n    </tr>\n    <tr>\n      <th>8783</th>\n      <td>a57f4302-b1a8-11e9-89fa-000d3a38a36f</td>\n      <td>Android App</td>\n      <td>Offline</td>\n      <td>2019-08-07</td>\n      <td>2020-11-04</td>\n      <td>2020-09-07</td>\n      <td>2020-11-04</td>\n      <td>2.0</td>\n      <td>109.0</td>\n      <td>10239.46</td>\n      <td>143.98</td>\n      <td>[AKTIFCOCUK, ERKEK, COCUK, KADIN, AKTIFSPOR]</td>\n      <td>111.0</td>\n      <td>1116389.10</td>\n    </tr>\n    <tr>\n      <th>2619</th>\n      <td>fdbe8304-a7ab-11e9-a2fc-000d3a38a36f</td>\n      <td>Android App</td>\n      <td>Offline</td>\n      <td>2018-10-18</td>\n      <td>2020-06-30</td>\n      <td>2018-10-18</td>\n      <td>2020-06-30</td>\n      <td>1.0</td>\n      <td>87.0</td>\n      <td>8432.25</td>\n      <td>139.98</td>\n      <td>[ERKEK]</td>\n      <td>88.0</td>\n      <td>733745.73</td>\n    </tr>\n    <tr>\n      <th>6322</th>\n      <td>329968c6-a0e2-11e9-a2fc-000d3a38a36f</td>\n      <td>Ios App</td>\n      <td>Ios App</td>\n      <td>2019-02-14</td>\n      <td>2021-04-05</td>\n      <td>2021-04-05</td>\n      <td>2020-02-17</td>\n      <td>2.0</td>\n      <td>81.0</td>\n      <td>3997.55</td>\n      <td>242.81</td>\n      <td>[ERKEK]</td>\n      <td>83.0</td>\n      <td>324287.17</td>\n    </tr>\n    <tr>\n      <th>7613</th>\n      <td>73fd19aa-9e37-11e9-9897-000d3a38a36f</td>\n      <td>Ios App</td>\n      <td>Offline</td>\n      <td>2014-01-14</td>\n      <td>2021-05-18</td>\n      <td>2021-01-30</td>\n      <td>2021-05-18</td>\n      <td>81.0</td>\n      <td>1.0</td>\n      <td>1263.76</td>\n      <td>32654.34</td>\n      <td>[ERKEK, COCUK, KADIN, AKTIFSPOR]</td>\n      <td>82.0</td>\n      <td>2646265.30</td>\n    </tr>\n    <tr>\n      <th>9347</th>\n      <td>44d032ee-a0d4-11e9-a2fc-000d3a38a36f</td>\n      <td>Mobile</td>\n      <td>Mobile</td>\n      <td>2019-02-11</td>\n      <td>2021-02-11</td>\n      <td>2021-02-11</td>\n      <td>2020-12-24</td>\n      <td>3.0</td>\n      <td>74.0</td>\n      <td>4640.77</td>\n      <td>543.28</td>\n      <td>[KADIN, AKTIFSPOR]</td>\n      <td>77.0</td>\n      <td>345046.82</td>\n    </tr>\n    <tr>\n      <th>10954</th>\n      <td>b27e241a-a901-11e9-a2fc-000d3a38a36f</td>\n      <td>Mobile</td>\n      <td>Mobile</td>\n      <td>2015-09-12</td>\n      <td>2021-04-01</td>\n      <td>2021-04-01</td>\n      <td>2019-10-08</td>\n      <td>72.0</td>\n      <td>3.0</td>\n      <td>292.93</td>\n      <td>5004.95</td>\n      <td>[AKTIFCOCUK, ERKEK, KADIN, AKTIFSPOR]</td>\n      <td>75.0</td>\n      <td>361235.19</td>\n    </tr>\n    <tr>\n      <th>8068</th>\n      <td>d696c654-2633-11ea-8e1c-000d3a38a36f</td>\n      <td>Ios App</td>\n      <td>Ios App</td>\n      <td>2017-05-10</td>\n      <td>2021-04-13</td>\n      <td>2021-04-13</td>\n      <td>2019-08-15</td>\n      <td>69.0</td>\n      <td>1.0</td>\n      <td>82.48</td>\n      <td>16836.09</td>\n      <td>[AKTIFCOCUK, ERKEK, COCUK, KADIN, AKTIFSPOR]</td>\n      <td>70.0</td>\n      <td>1161772.69</td>\n    </tr>\n    <tr>\n      <th>7330</th>\n      <td>a4d534a2-5b1b-11eb-8dbd-000d3a38a36f</td>\n      <td>Desktop</td>\n      <td>Desktop</td>\n      <td>2020-02-16</td>\n      <td>2021-04-30</td>\n      <td>2021-04-30</td>\n      <td>2020-12-18</td>\n      <td>66.0</td>\n      <td>4.0</td>\n      <td>843.68</td>\n      <td>17599.89</td>\n      <td>[ERKEK, KADIN, AKTIFSPOR]</td>\n      <td>70.0</td>\n      <td>1164967.46</td>\n    </tr>\n  </tbody>\n</table>\n</div>"
     },
     "execution_count": 72,
     "metadata": {},
     "output_type": "execute_result"
    }
   ],
   "source": [
    "df.sort_values('total_transaction', ascending=False).head(10)"
   ],
   "metadata": {
    "collapsed": false
   }
  },
  {
   "cell_type": "code",
   "execution_count": 73,
   "outputs": [
    {
     "data": {
      "text/plain": "master_id\n5d1c466a-9cfd-11e9-9897-000d3a38a36f    202.0\ncba59206-9dd1-11e9-9897-000d3a38a36f    131.0\na57f4302-b1a8-11e9-89fa-000d3a38a36f    111.0\nfdbe8304-a7ab-11e9-a2fc-000d3a38a36f     88.0\n329968c6-a0e2-11e9-a2fc-000d3a38a36f     83.0\n73fd19aa-9e37-11e9-9897-000d3a38a36f     82.0\n44d032ee-a0d4-11e9-a2fc-000d3a38a36f     77.0\nb27e241a-a901-11e9-a2fc-000d3a38a36f     75.0\nd696c654-2633-11ea-8e1c-000d3a38a36f     70.0\na4d534a2-5b1b-11eb-8dbd-000d3a38a36f     70.0\nName: total_transaction, dtype: float64"
     },
     "execution_count": 73,
     "metadata": {},
     "output_type": "execute_result"
    }
   ],
   "source": [
    "df.groupby(['master_id'])['total_transaction'].sum().sort_values(ascending=False).head(10)"
   ],
   "metadata": {
    "collapsed": false
   }
  },
  {
   "cell_type": "code",
   "execution_count": 74,
   "outputs": [
    {
     "data": {
      "text/plain": "<AxesSubplot:>"
     },
     "execution_count": 74,
     "metadata": {},
     "output_type": "execute_result"
    },
    {
     "data": {
      "text/plain": "<Figure size 432x288 with 1 Axes>",
      "image/png": "[encoded data removed]"
     },
     "metadata": {},
     "output_type": "display_data"
    }
   ],
   "source": [
    "df.sort_values('total_transaction', ascending=False).head(10).total_transaction.plot(kind='bar', color=colors)"
   ],
   "metadata": {
    "collapsed": false
   }
  },
  {
   "cell_type": "markdown",
   "source": [
    "**Adım 8:** Veri ön hazırlık sürecini fonksiyonlaştırınız."
   ],
   "metadata": {
    "collapsed": false
   }
  },
  {
   "cell_type": "code",
   "execution_count": 75,
   "outputs": [],
   "source": [
    "def data_preparation(dataframe):\n",
    "    df[\"total_price\"] = (df[\"order_num_total_ever_online\"] * df[\"customer_value_total_ever_online\"]) + (\n",
    "            df[\"order_num_total_ever_offline\"] * df[\"customer_value_total_ever_offline\"])\n",
    "    df[\"total_transaction\"] = df[\"order_num_total_ever_online\"] + df[\"order_num_total_ever_offline\"]\n",
    "    df[\"first_order_date\"] = pd.to_datetime(df[\"first_order_date\"])\n",
    "    df[\"last_order_date\"] = pd.to_datetime(df[\"last_order_date\"])\n",
    "    df[\"last_order_date_online\"] = pd.to_datetime(df[\"last_order_date_online\"])\n",
    "    df[\"last_order_date_offline\"] = pd.to_datetime(df[\"last_order_date_offline\"])\n",
    "    return df"
   ],
   "metadata": {
    "collapsed": false
   }
  },
  {
   "cell_type": "code",
   "execution_count": 76,
   "outputs": [
    {
     "data": {
      "text/plain": "                              master_id order_channel last_order_channel first_order_date last_order_date last_order_date_online last_order_date_offline  order_num_total_ever_online  order_num_total_ever_offline  customer_value_total_ever_offline  customer_value_total_ever_online       interested_in_categories_12  total_transaction  total_price\n0  cc294636-19f0-11eb-8d74-000d3a38a36f   Android App            Offline       2020-10-30      2021-02-26             2021-02-21              2021-02-26                          4.0                           1.0                             139.99                            799.38                           [KADIN]                5.0      3337.51\n1  f431bd5a-ab7b-11e9-a2fc-000d3a38a36f   Android App             Mobile       2017-02-08      2021-02-16             2021-02-16              2020-01-10                         19.0                           2.0                             159.97                           1853.58  [ERKEK, COCUK, KADIN, AKTIFSPOR]               21.0     35537.96\n2  69b69676-1a40-11ea-941b-000d3a38a36f   Android App        Android App       2019-11-27      2020-11-27             2020-11-27              2019-12-01                          3.0                           2.0                             189.97                            395.35                    [ERKEK, KADIN]                5.0      1565.99\n3  1854e56c-491f-11eb-806e-000d3a38a36f   Android App        Android App       2021-01-06      2021-01-17             2021-01-17              2021-01-06                          1.0                           1.0                              39.99                             81.98               [AKTIFCOCUK, COCUK]                2.0       121.97\n4  d6ea1074-f1f5-11e9-9346-000d3a38a36f       Desktop            Desktop       2019-08-03      2021-03-07             2021-03-07              2019-08-03                          1.0                           1.0                              49.99                            159.99                       [AKTIFSPOR]                2.0       209.98\n5  e585280e-aae1-11e9-a2fc-000d3a38a36f       Desktop            Offline       2018-11-18      2021-03-13             2018-11-18              2021-03-13                          1.0                           2.0                             150.87                             49.99                           [KADIN]                3.0       351.73\n6  c445e4ee-6242-11ea-9d1a-000d3a38a36f   Android App        Android App       2020-03-04      2020-10-18             2020-10-18              2020-03-04                          3.0                           1.0                              59.99                            315.94                       [AKTIFSPOR]                4.0      1007.81\n7  3f1b4dc8-8a7d-11ea-8ec0-000d3a38a36f        Mobile            Offline       2020-05-15      2020-08-12             2020-05-15              2020-08-12                          1.0                           1.0                              49.99                            113.64                           [COCUK]                2.0       163.63\n8  cfbda69e-5b4f-11ea-aca7-000d3a38a36f   Android App        Android App       2020-01-23      2021-03-07             2021-03-07              2020-01-25                          3.0                           2.0                             120.48                            934.21             [ERKEK, COCUK, KADIN]                5.0      3043.59\n9  1143f032-440d-11ea-8b43-000d3a38a36f        Mobile             Mobile       2019-07-30      2020-10-04             2020-10-04              2019-07-30                          1.0                           1.0                              69.98                             95.98                [KADIN, AKTIFSPOR]                2.0       165.96",
      "text/html": "<div>\n<style scoped>\n    .dataframe tbody tr th:only-of-type {\n        vertical-align: middle;\n    }\n\n    .dataframe tbody tr th {\n        vertical-align: top;\n    }\n\n    .dataframe thead th {\n        text-align: right;\n    }\n</style>\n<table border=\"1\" class=\"dataframe\">\n  <thead>\n    <tr style=\"text-align: right;\">\n      <th></th>\n      <th>master_id</th>\n      <th>order_channel</th>\n      <th>last_order_channel</th>\n      <th>first_order_date</th>\n      <th>last_order_date</th>\n      <th>last_order_date_online</th>\n      <th>last_order_date_offline</th>\n      <th>order_num_total_ever_online</th>\n      <th>order_num_total_ever_offline</th>\n      <th>customer_value_total_ever_offline</th>\n      <th>customer_value_total_ever_online</th>\n      <th>interested_in_categories_12</th>\n      <th>total_transaction</th>\n      <th>total_price</th>\n    </tr>\n  </thead>\n  <tbody>\n    <tr>\n      <th>0</th>\n      <td>cc294636-19f0-11eb-8d74-000d3a38a36f</td>\n      <td>Android App</td>\n      <td>Offline</td>\n      <td>2020-10-30</td>\n      <td>2021-02-26</td>\n      <td>2021-02-21</td>\n      <td>2021-02-26</td>\n      <td>4.0</td>\n      <td>1.0</td>\n      <td>139.99</td>\n      <td>799.38</td>\n      <td>[KADIN]</td>\n      <td>5.0</td>\n      <td>3337.51</td>\n    </tr>\n    <tr>\n      <th>1</th>\n      <td>f431bd5a-ab7b-11e9-a2fc-000d3a38a36f</td>\n      <td>Android App</td>\n      <td>Mobile</td>\n      <td>2017-02-08</td>\n      <td>2021-02-16</td>\n      <td>2021-02-16</td>\n      <td>2020-01-10</td>\n      <td>19.0</td>\n      <td>2.0</td>\n      <td>159.97</td>\n      <td>1853.58</td>\n      <td>[ERKEK, COCUK, KADIN, AKTIFSPOR]</td>\n      <td>21.0</td>\n      <td>35537.96</td>\n    </tr>\n    <tr>\n      <th>2</th>\n      <td>69b69676-1a40-11ea-941b-000d3a38a36f</td>\n      <td>Android App</td>\n      <td>Android App</td>\n      <td>2019-11-27</td>\n      <td>2020-11-27</td>\n      <td>2020-11-27</td>\n      <td>2019-12-01</td>\n      <td>3.0</td>\n      <td>2.0</td>\n      <td>189.97</td>\n      <td>395.35</td>\n      <td>[ERKEK, KADIN]</td>\n      <td>5.0</td>\n      <td>1565.99</td>\n    </tr>\n    <tr>\n      <th>3</th>\n      <td>1854e56c-491f-11eb-806e-000d3a38a36f</td>\n      <td>Android App</td>\n      <td>Android App</td>\n      <td>2021-01-06</td>\n      <td>2021-01-17</td>\n      <td>2021-01-17</td>\n      <td>2021-01-06</td>\n      <td>1.0</td>\n      <td>1.0</td>\n      <td>39.99</td>\n      <td>81.98</td>\n      <td>[AKTIFCOCUK, COCUK]</td>\n      <td>2.0</td>\n      <td>121.97</td>\n    </tr>\n    <tr>\n      <th>4</th>\n      <td>d6ea1074-f1f5-11e9-9346-000d3a38a36f</td>\n      <td>Desktop</td>\n      <td>Desktop</td>\n      <td>2019-08-03</td>\n      <td>2021-03-07</td>\n      <td>2021-03-07</td>\n      <td>2019-08-03</td>\n      <td>1.0</td>\n      <td>1.0</td>\n      <td>49.99</td>\n      <td>159.99</td>\n      <td>[AKTIFSPOR]</td>\n      <td>2.0</td>\n      <td>209.98</td>\n    </tr>\n    <tr>\n      <th>5</th>\n      <td>e585280e-aae1-11e9-a2fc-000d3a38a36f</td>\n      <td>Desktop</td>\n      <td>Offline</td>\n      <td>2018-11-18</td>\n      <td>2021-03-13</td>\n      <td>2018-11-18</td>\n      <td>2021-03-13</td>\n      <td>1.0</td>\n      <td>2.0</td>\n      <td>150.87</td>\n      <td>49.99</td>\n      <td>[KADIN]</td>\n      <td>3.0</td>\n      <td>351.73</td>\n    </tr>\n    <tr>\n      <th>6</th>\n      <td>c445e4ee-6242-11ea-9d1a-000d3a38a36f</td>\n      <td>Android App</td>\n      <td>Android App</td>\n      <td>2020-03-04</td>\n      <td>2020-10-18</td>\n      <td>2020-10-18</td>\n      <td>2020-03-04</td>\n      <td>3.0</td>\n      <td>1.0</td>\n      <td>59.99</td>\n      <td>315.94</td>\n      <td>[AKTIFSPOR]</td>\n      <td>4.0</td>\n      <td>1007.81</td>\n    </tr>\n    <tr>\n      <th>7</th>\n      <td>3f1b4dc8-8a7d-11ea-8ec0-000d3a38a36f</td>\n      <td>Mobile</td>\n      <td>Offline</td>\n      <td>2020-05-15</td>\n      <td>2020-08-12</td>\n      <td>2020-05-15</td>\n      <td>2020-08-12</td>\n      <td>1.0</td>\n      <td>1.0</td>\n      <td>49.99</td>\n      <td>113.64</td>\n      <td>[COCUK]</td>\n      <td>2.0</td>\n      <td>163.63</td>\n    </tr>\n    <tr>\n      <th>8</th>\n      <td>cfbda69e-5b4f-11ea-aca7-000d3a38a36f</td>\n      <td>Android App</td>\n      <td>Android App</td>\n      <td>2020-01-23</td>\n      <td>2021-03-07</td>\n      <td>2021-03-07</td>\n      <td>2020-01-25</td>\n      <td>3.0</td>\n      <td>2.0</td>\n      <td>120.48</td>\n      <td>934.21</td>\n      <td>[ERKEK, COCUK, KADIN]</td>\n      <td>5.0</td>\n      <td>3043.59</td>\n    </tr>\n    <tr>\n      <th>9</th>\n      <td>1143f032-440d-11ea-8b43-000d3a38a36f</td>\n      <td>Mobile</td>\n      <td>Mobile</td>\n      <td>2019-07-30</td>\n      <td>2020-10-04</td>\n      <td>2020-10-04</td>\n      <td>2019-07-30</td>\n      <td>1.0</td>\n      <td>1.0</td>\n      <td>69.98</td>\n      <td>95.98</td>\n      <td>[KADIN, AKTIFSPOR]</td>\n      <td>2.0</td>\n      <td>165.96</td>\n    </tr>\n  </tbody>\n</table>\n</div>"
     },
     "execution_count": 76,
     "metadata": {},
     "output_type": "execute_result"
    }
   ],
   "source": [
    "data_preparation(df).head(10)"
   ],
   "metadata": {
    "collapsed": false
   }
  },
  {
   "cell_type": "markdown",
   "source": [
    "**Görev 2:** RFM Metriklerinin Hesaplanması"
   ],
   "metadata": {
    "collapsed": false
   }
  },
  {
   "cell_type": "code",
   "execution_count": 77,
   "outputs": [],
   "source": [
    "today_date = dt.datetime(2021, 6, 1)"
   ],
   "metadata": {
    "collapsed": false
   }
  },
  {
   "cell_type": "code",
   "execution_count": 78,
   "outputs": [],
   "source": [
    "rfm = df.groupby('master_id').agg({'last_order_date': lambda last_order_date: (today_date - last_order_date.max()).days,\n",
    "                                   'total_transaction': lambda x: x,\n",
    "                                   'total_price': lambda x: x,\n",
    "                                   'interested_in_categories_12': lambda x: x})"
   ],
   "metadata": {
    "collapsed": false
   }
  },
  {
   "cell_type": "code",
   "execution_count": 79,
   "outputs": [],
   "source": [
    "rfm.columns = ['recency', 'frequency', 'monetary', 'interested_cats']"
   ],
   "metadata": {
    "collapsed": false
   }
  },
  {
   "cell_type": "code",
   "execution_count": 80,
   "outputs": [
    {
     "data": {
      "text/plain": "                                      recency  frequency  monetary                               interested_cats\nmaster_id                                                                                                       \n00016786-2f5a-11ea-bb80-000d3a38a36f       10        5.0   1979.33                     [ERKEK, COCUK, AKTIFSPOR]\n00034aaa-a838-11e9-a2fc-000d3a38a36f      298        3.0    419.95                                [ERKEK, KADIN]\n000be838-85df-11ea-a90b-000d3a38a36f      213        4.0   1436.63                       [AKTIFCOCUK, AKTIFSPOR]\n000c1fe2-a8b7-11ea-8479-000d3a38a36f       27        7.0   3153.67  [AKTIFCOCUK, ERKEK, COCUK, KADIN, AKTIFSPOR]\n000f5e3e-9dde-11ea-80cd-000d3a38a36f       20        7.0   7201.71                            [ERKEK, AKTIFSPOR]\n00136ce2-a562-11e9-a2fc-000d3a38a36f      203        2.0    359.45                                            []\n00142f9a-7af6-11eb-8460-000d3a38a36f       25        3.0    640.90                            [COCUK, AKTIFSPOR]\n0014778a-5b11-11ea-9a2c-000d3a38a36f       26        3.0   1334.87                                            []\n0018c6aa-ab6c-11e9-a2fc-000d3a38a36f      126        2.0    317.91                                  [AKTIFCOCUK]\n0022f41e-5597-11eb-9e65-000d3a38a36f       12        2.0    154.98                            [KADIN, AKTIFSPOR]",
      "text/html": "<div>\n<style scoped>\n    .dataframe tbody tr th:only-of-type {\n        vertical-align: middle;\n    }\n\n    .dataframe tbody tr th {\n        vertical-align: top;\n    }\n\n    .dataframe thead th {\n        text-align: right;\n    }\n</style>\n<table border=\"1\" class=\"dataframe\">\n  <thead>\n    <tr style=\"text-align: right;\">\n      <th></th>\n      <th>recency</th>\n      <th>frequency</th>\n      <th>monetary</th>\n      <th>interested_cats</th>\n    </tr>\n    <tr>\n      <th>master_id</th>\n      <th></th>\n      <th></th>\n      <th></th>\n      <th></th>\n    </tr>\n  </thead>\n  <tbody>\n    <tr>\n      <th>00016786-2f5a-11ea-bb80-000d3a38a36f</th>\n      <td>10</td>\n      <td>5.0</td>\n      <td>1979.33</td>\n      <td>[ERKEK, COCUK, AKTIFSPOR]</td>\n    </tr>\n    <tr>\n      <th>00034aaa-a838-11e9-a2fc-000d3a38a36f</th>\n      <td>298</td>\n      <td>3.0</td>\n      <td>419.95</td>\n      <td>[ERKEK, KADIN]</td>\n    </tr>\n    <tr>\n      <th>000be838-85df-11ea-a90b-000d3a38a36f</th>\n      <td>213</td>\n      <td>4.0</td>\n      <td>1436.63</td>\n      <td>[AKTIFCOCUK, AKTIFSPOR]</td>\n    </tr>\n    <tr>\n      <th>000c1fe2-a8b7-11ea-8479-000d3a38a36f</th>\n      <td>27</td>\n      <td>7.0</td>\n      <td>3153.67</td>\n      <td>[AKTIFCOCUK, ERKEK, COCUK, KADIN, AKTIFSPOR]</td>\n    </tr>\n    <tr>\n      <th>000f5e3e-9dde-11ea-80cd-000d3a38a36f</th>\n      <td>20</td>\n      <td>7.0</td>\n      <td>7201.71</td>\n      <td>[ERKEK, AKTIFSPOR]</td>\n    </tr>\n    <tr>\n      <th>00136ce2-a562-11e9-a2fc-000d3a38a36f</th>\n      <td>203</td>\n      <td>2.0</td>\n      <td>359.45</td>\n      <td>[]</td>\n    </tr>\n    <tr>\n      <th>00142f9a-7af6-11eb-8460-000d3a38a36f</th>\n      <td>25</td>\n      <td>3.0</td>\n      <td>640.90</td>\n      <td>[COCUK, AKTIFSPOR]</td>\n    </tr>\n    <tr>\n      <th>0014778a-5b11-11ea-9a2c-000d3a38a36f</th>\n      <td>26</td>\n      <td>3.0</td>\n      <td>1334.87</td>\n      <td>[]</td>\n    </tr>\n    <tr>\n      <th>0018c6aa-ab6c-11e9-a2fc-000d3a38a36f</th>\n      <td>126</td>\n      <td>2.0</td>\n      <td>317.91</td>\n      <td>[AKTIFCOCUK]</td>\n    </tr>\n    <tr>\n      <th>0022f41e-5597-11eb-9e65-000d3a38a36f</th>\n      <td>12</td>\n      <td>2.0</td>\n      <td>154.98</td>\n      <td>[KADIN, AKTIFSPOR]</td>\n    </tr>\n  </tbody>\n</table>\n</div>"
     },
     "execution_count": 80,
     "metadata": {},
     "output_type": "execute_result"
    }
   ],
   "source": [
    "rfm.head(10)"
   ],
   "metadata": {
    "collapsed": false
   }
  },
  {
   "cell_type": "code",
   "execution_count": 81,
   "outputs": [
    {
     "data": {
      "text/plain": "             count         mean           std    min     25%      50%      75%         max\nrecency    19945.0   134.458360    103.281149   2.00   43.00   111.00   202.00      367.00\nfrequency  19945.0     5.024768      4.742707   2.00    3.00     4.00     6.00      202.00\nmonetary   19945.0  5334.164039  73015.488048  44.98  469.89  1144.78  3062.98  9045395.94",
      "text/html": "<div>\n<style scoped>\n    .dataframe tbody tr th:only-of-type {\n        vertical-align: middle;\n    }\n\n    .dataframe tbody tr th {\n        vertical-align: top;\n    }\n\n    .dataframe thead th {\n        text-align: right;\n    }\n</style>\n<table border=\"1\" class=\"dataframe\">\n  <thead>\n    <tr style=\"text-align: right;\">\n      <th></th>\n      <th>count</th>\n      <th>mean</th>\n      <th>std</th>\n      <th>min</th>\n      <th>25%</th>\n      <th>50%</th>\n      <th>75%</th>\n      <th>max</th>\n    </tr>\n  </thead>\n  <tbody>\n    <tr>\n      <th>recency</th>\n      <td>19945.0</td>\n      <td>134.458360</td>\n      <td>103.281149</td>\n      <td>2.00</td>\n      <td>43.00</td>\n      <td>111.00</td>\n      <td>202.00</td>\n      <td>367.00</td>\n    </tr>\n    <tr>\n      <th>frequency</th>\n      <td>19945.0</td>\n      <td>5.024768</td>\n      <td>4.742707</td>\n      <td>2.00</td>\n      <td>3.00</td>\n      <td>4.00</td>\n      <td>6.00</td>\n      <td>202.00</td>\n    </tr>\n    <tr>\n      <th>monetary</th>\n      <td>19945.0</td>\n      <td>5334.164039</td>\n      <td>73015.488048</td>\n      <td>44.98</td>\n      <td>469.89</td>\n      <td>1144.78</td>\n      <td>3062.98</td>\n      <td>9045395.94</td>\n    </tr>\n  </tbody>\n</table>\n</div>"
     },
     "execution_count": 81,
     "metadata": {},
     "output_type": "execute_result"
    }
   ],
   "source": [
    "rfm.describe().T"
   ],
   "metadata": {
    "collapsed": false
   }
  },
  {
   "cell_type": "markdown",
   "source": [
    "**Görev 3:** RF Skorunun Hesaplanması"
   ],
   "metadata": {
    "collapsed": false
   }
  },
  {
   "cell_type": "code",
   "execution_count": 82,
   "outputs": [],
   "source": [
    "rfm['recency_score'] = pd.qcut(rfm['recency'], 5, labels=[5, 4, 3, 2, 1])\n",
    "\n",
    "rfm['frequency_score'] = pd.qcut(rfm['frequency'].rank(method='first'), 5, labels=[1, 2, 3, 4, 5])\n",
    "\n",
    "rfm['monetary_score'] = pd.qcut(rfm['monetary'], 5, labels=[1, 2, 3, 4, 5])"
   ],
   "metadata": {
    "collapsed": false
   }
  },
  {
   "cell_type": "code",
   "execution_count": 83,
   "outputs": [],
   "source": [
    "rfm['RF_SCORE'] = (rfm['recency_score'].astype(str) +\n",
    "                   rfm['frequency_score'].astype(str))"
   ],
   "metadata": {
    "collapsed": false
   }
  },
  {
   "cell_type": "code",
   "execution_count": 84,
   "outputs": [
    {
     "data": {
      "text/plain": "                                      recency  frequency  monetary                               interested_cats recency_score frequency_score monetary_score RF_SCORE\nmaster_id                                                                                                                                                             \n00016786-2f5a-11ea-bb80-000d3a38a36f       10        5.0   1979.33                     [ERKEK, COCUK, AKTIFSPOR]             5               4              4       54\n00034aaa-a838-11e9-a2fc-000d3a38a36f      298        3.0    419.95                                [ERKEK, KADIN]             1               2              2       12\n000be838-85df-11ea-a90b-000d3a38a36f      213        4.0   1436.63                       [AKTIFCOCUK, AKTIFSPOR]             2               3              3       23\n000c1fe2-a8b7-11ea-8479-000d3a38a36f       27        7.0   3153.67  [AKTIFCOCUK, ERKEK, COCUK, KADIN, AKTIFSPOR]             5               4              4       54\n000f5e3e-9dde-11ea-80cd-000d3a38a36f       20        7.0   7201.71                            [ERKEK, AKTIFSPOR]             5               4              5       54\n00136ce2-a562-11e9-a2fc-000d3a38a36f      203        2.0    359.45                                            []             2               1              1       21\n00142f9a-7af6-11eb-8460-000d3a38a36f       25        3.0    640.90                            [COCUK, AKTIFSPOR]             5               2              2       52\n0014778a-5b11-11ea-9a2c-000d3a38a36f       26        3.0   1334.87                                            []             5               2              3       52\n0018c6aa-ab6c-11e9-a2fc-000d3a38a36f      126        2.0    317.91                                  [AKTIFCOCUK]             3               1              1       31\n0022f41e-5597-11eb-9e65-000d3a38a36f       12        2.0    154.98                            [KADIN, AKTIFSPOR]             5               1              1       51",
      "text/html": "<div>\n<style scoped>\n    .dataframe tbody tr th:only-of-type {\n        vertical-align: middle;\n    }\n\n    .dataframe tbody tr th {\n        vertical-align: top;\n    }\n\n    .dataframe thead th {\n        text-align: right;\n    }\n</style>\n<table border=\"1\" class=\"dataframe\">\n  <thead>\n    <tr style=\"text-align: right;\">\n      <th></th>\n      <th>recency</th>\n      <th>frequency</th>\n      <th>monetary</th>\n      <th>interested_cats</th>\n      <th>recency_score</th>\n      <th>frequency_score</th>\n      <th>monetary_score</th>\n      <th>RF_SCORE</th>\n    </tr>\n    <tr>\n      <th>master_id</th>\n      <th></th>\n      <th></th>\n      <th></th>\n      <th></th>\n      <th></th>\n      <th></th>\n      <th></th>\n      <th></th>\n    </tr>\n  </thead>\n  <tbody>\n    <tr>\n      <th>00016786-2f5a-11ea-bb80-000d3a38a36f</th>\n      <td>10</td>\n      <td>5.0</td>\n      <td>1979.33</td>\n      <td>[ERKEK, COCUK, AKTIFSPOR]</td>\n      <td>5</td>\n      <td>4</td>\n      <td>4</td>\n      <td>54</td>\n    </tr>\n    <tr>\n      <th>00034aaa-a838-11e9-a2fc-000d3a38a36f</th>\n      <td>298</td>\n      <td>3.0</td>\n      <td>419.95</td>\n      <td>[ERKEK, KADIN]</td>\n      <td>1</td>\n      <td>2</td>\n      <td>2</td>\n      <td>12</td>\n    </tr>\n    <tr>\n      <th>000be838-85df-11ea-a90b-000d3a38a36f</th>\n      <td>213</td>\n      <td>4.0</td>\n      <td>1436.63</td>\n      <td>[AKTIFCOCUK, AKTIFSPOR]</td>\n      <td>2</td>\n      <td>3</td>\n      <td>3</td>\n      <td>23</td>\n    </tr>\n    <tr>\n      <th>000c1fe2-a8b7-11ea-8479-000d3a38a36f</th>\n      <td>27</td>\n      <td>7.0</td>\n      <td>3153.67</td>\n      <td>[AKTIFCOCUK, ERKEK, COCUK, KADIN, AKTIFSPOR]</td>\n      <td>5</td>\n      <td>4</td>\n      <td>4</td>\n      <td>54</td>\n    </tr>\n    <tr>\n      <th>000f5e3e-9dde-11ea-80cd-000d3a38a36f</th>\n      <td>20</td>\n      <td>7.0</td>\n      <td>7201.71</td>\n      <td>[ERKEK, AKTIFSPOR]</td>\n      <td>5</td>\n      <td>4</td>\n      <td>5</td>\n      <td>54</td>\n    </tr>\n    <tr>\n      <th>00136ce2-a562-11e9-a2fc-000d3a38a36f</th>\n      <td>203</td>\n      <td>2.0</td>\n      <td>359.45</td>\n      <td>[]</td>\n      <td>2</td>\n      <td>1</td>\n      <td>1</td>\n      <td>21</td>\n    </tr>\n    <tr>\n      <th>00142f9a-7af6-11eb-8460-000d3a38a36f</th>\n      <td>25</td>\n      <td>3.0</td>\n      <td>640.90</td>\n      <td>[COCUK, AKTIFSPOR]</td>\n      <td>5</td>\n      <td>2</td>\n      <td>2</td>\n      <td>52</td>\n    </tr>\n    <tr>\n      <th>0014778a-5b11-11ea-9a2c-000d3a38a36f</th>\n      <td>26</td>\n      <td>3.0</td>\n      <td>1334.87</td>\n      <td>[]</td>\n      <td>5</td>\n      <td>2</td>\n      <td>3</td>\n      <td>52</td>\n    </tr>\n    <tr>\n      <th>0018c6aa-ab6c-11e9-a2fc-000d3a38a36f</th>\n      <td>126</td>\n      <td>2.0</td>\n      <td>317.91</td>\n      <td>[AKTIFCOCUK]</td>\n      <td>3</td>\n      <td>1</td>\n      <td>1</td>\n      <td>31</td>\n    </tr>\n    <tr>\n      <th>0022f41e-5597-11eb-9e65-000d3a38a36f</th>\n      <td>12</td>\n      <td>2.0</td>\n      <td>154.98</td>\n      <td>[KADIN, AKTIFSPOR]</td>\n      <td>5</td>\n      <td>1</td>\n      <td>1</td>\n      <td>51</td>\n    </tr>\n  </tbody>\n</table>\n</div>"
     },
     "execution_count": 84,
     "metadata": {},
     "output_type": "execute_result"
    }
   ],
   "source": [
    "rfm.head(10)"
   ],
   "metadata": {
    "collapsed": false
   }
  },
  {
   "cell_type": "markdown",
   "source": [
    "**Görev 4:** RF Skorunun Segment Olarak Tanımlanması"
   ],
   "metadata": {
    "collapsed": false
   }
  },
  {
   "cell_type": "code",
   "execution_count": 85,
   "outputs": [],
   "source": [
    "seg_map = {\n",
    "    r'[1-2][1-2]': 'hibernating',\n",
    "    r'[1-2][3-4]': 'at_Risk',\n",
    "    r'[1-2]5': 'cant_loose',\n",
    "    r'3[1-2]': 'about_to_sleep',\n",
    "    r'33': 'need_attention',\n",
    "    r'[3-4][4-5]': 'loyal_customers',\n",
    "    r'41': 'promising',\n",
    "    r'51': 'new_customers',\n",
    "    r'[4-5][2-3]': 'potential_loyalists',\n",
    "    r'5[4-5]': 'champions'\n",
    "}"
   ],
   "metadata": {
    "collapsed": false
   }
  },
  {
   "cell_type": "code",
   "execution_count": 86,
   "outputs": [],
   "source": [
    "rfm['segment'] = rfm['RF_SCORE'].replace(seg_map, regex=True)"
   ],
   "metadata": {
    "collapsed": false
   }
  },
  {
   "cell_type": "code",
   "execution_count": 87,
   "outputs": [
    {
     "data": {
      "text/plain": "                                      recency  frequency  monetary                               interested_cats recency_score frequency_score monetary_score RF_SCORE              segment\nmaster_id                                                                                                                                                                                  \n00016786-2f5a-11ea-bb80-000d3a38a36f       10        5.0   1979.33                     [ERKEK, COCUK, AKTIFSPOR]             5               4              4       54            champions\n00034aaa-a838-11e9-a2fc-000d3a38a36f      298        3.0    419.95                                [ERKEK, KADIN]             1               2              2       12          hibernating\n000be838-85df-11ea-a90b-000d3a38a36f      213        4.0   1436.63                       [AKTIFCOCUK, AKTIFSPOR]             2               3              3       23              at_Risk\n000c1fe2-a8b7-11ea-8479-000d3a38a36f       27        7.0   3153.67  [AKTIFCOCUK, ERKEK, COCUK, KADIN, AKTIFSPOR]             5               4              4       54            champions\n000f5e3e-9dde-11ea-80cd-000d3a38a36f       20        7.0   7201.71                            [ERKEK, AKTIFSPOR]             5               4              5       54            champions\n00136ce2-a562-11e9-a2fc-000d3a38a36f      203        2.0    359.45                                            []             2               1              1       21          hibernating\n00142f9a-7af6-11eb-8460-000d3a38a36f       25        3.0    640.90                            [COCUK, AKTIFSPOR]             5               2              2       52  potential_loyalists\n0014778a-5b11-11ea-9a2c-000d3a38a36f       26        3.0   1334.87                                            []             5               2              3       52  potential_loyalists\n0018c6aa-ab6c-11e9-a2fc-000d3a38a36f      126        2.0    317.91                                  [AKTIFCOCUK]             3               1              1       31       about_to_sleep\n0022f41e-5597-11eb-9e65-000d3a38a36f       12        2.0    154.98                            [KADIN, AKTIFSPOR]             5               1              1       51        new_customers",
      "text/html": "<div>\n<style scoped>\n    .dataframe tbody tr th:only-of-type {\n        vertical-align: middle;\n    }\n\n    .dataframe tbody tr th {\n        vertical-align: top;\n    }\n\n    .dataframe thead th {\n        text-align: right;\n    }\n</style>\n<table border=\"1\" class=\"dataframe\">\n  <thead>\n    <tr style=\"text-align: right;\">\n      <th></th>\n      <th>recency</th>\n      <th>frequency</th>\n      <th>monetary</th>\n      <th>interested_cats</th>\n      <th>recency_score</th>\n      <th>frequency_score</th>\n      <th>monetary_score</th>\n      <th>RF_SCORE</th>\n      <th>segment</th>\n    </tr>\n    <tr>\n      <th>master_id</th>\n      <th></th>\n      <th></th>\n      <th></th>\n      <th></th>\n      <th></th>\n      <th></th>\n      <th></th>\n      <th></th>\n      <th></th>\n    </tr>\n  </thead>\n  <tbody>\n    <tr>\n      <th>00016786-2f5a-11ea-bb80-000d3a38a36f</th>\n      <td>10</td>\n      <td>5.0</td>\n      <td>1979.33</td>\n      <td>[ERKEK, COCUK, AKTIFSPOR]</td>\n      <td>5</td>\n      <td>4</td>\n      <td>4</td>\n      <td>54</td>\n      <td>champions</td>\n    </tr>\n    <tr>\n      <th>00034aaa-a838-11e9-a2fc-000d3a38a36f</th>\n      <td>298</td>\n      <td>3.0</td>\n      <td>419.95</td>\n      <td>[ERKEK, KADIN]</td>\n      <td>1</td>\n      <td>2</td>\n      <td>2</td>\n      <td>12</td>\n      <td>hibernating</td>\n    </tr>\n    <tr>\n      <th>000be838-85df-11ea-a90b-000d3a38a36f</th>\n      <td>213</td>\n      <td>4.0</td>\n      <td>1436.63</td>\n      <td>[AKTIFCOCUK, AKTIFSPOR]</td>\n      <td>2</td>\n      <td>3</td>\n      <td>3</td>\n      <td>23</td>\n      <td>at_Risk</td>\n    </tr>\n    <tr>\n      <th>000c1fe2-a8b7-11ea-8479-000d3a38a36f</th>\n      <td>27</td>\n      <td>7.0</td>\n      <td>3153.67</td>\n      <td>[AKTIFCOCUK, ERKEK, COCUK, KADIN, AKTIFSPOR]</td>\n      <td>5</td>\n      <td>4</td>\n      <td>4</td>\n      <td>54</td>\n      <td>champions</td>\n    </tr>\n    <tr>\n      <th>000f5e3e-9dde-11ea-80cd-000d3a38a36f</th>\n      <td>20</td>\n      <td>7.0</td>\n      <td>7201.71</td>\n      <td>[ERKEK, AKTIFSPOR]</td>\n      <td>5</td>\n      <td>4</td>\n      <td>5</td>\n      <td>54</td>\n      <td>champions</td>\n    </tr>\n    <tr>\n      <th>00136ce2-a562-11e9-a2fc-000d3a38a36f</th>\n      <td>203</td>\n      <td>2.0</td>\n      <td>359.45</td>\n      <td>[]</td>\n      <td>2</td>\n      <td>1</td>\n      <td>1</td>\n      <td>21</td>\n      <td>hibernating</td>\n    </tr>\n    <tr>\n      <th>00142f9a-7af6-11eb-8460-000d3a38a36f</th>\n      <td>25</td>\n      <td>3.0</td>\n      <td>640.90</td>\n      <td>[COCUK, AKTIFSPOR]</td>\n      <td>5</td>\n      <td>2</td>\n      <td>2</td>\n      <td>52</td>\n      <td>potential_loyalists</td>\n    </tr>\n    <tr>\n      <th>0014778a-5b11-11ea-9a2c-000d3a38a36f</th>\n      <td>26</td>\n      <td>3.0</td>\n      <td>1334.87</td>\n      <td>[]</td>\n      <td>5</td>\n      <td>2</td>\n      <td>3</td>\n      <td>52</td>\n      <td>potential_loyalists</td>\n    </tr>\n    <tr>\n      <th>0018c6aa-ab6c-11e9-a2fc-000d3a38a36f</th>\n      <td>126</td>\n      <td>2.0</td>\n      <td>317.91</td>\n      <td>[AKTIFCOCUK]</td>\n      <td>3</td>\n      <td>1</td>\n      <td>1</td>\n      <td>31</td>\n      <td>about_to_sleep</td>\n    </tr>\n    <tr>\n      <th>0022f41e-5597-11eb-9e65-000d3a38a36f</th>\n      <td>12</td>\n      <td>2.0</td>\n      <td>154.98</td>\n      <td>[KADIN, AKTIFSPOR]</td>\n      <td>5</td>\n      <td>1</td>\n      <td>1</td>\n      <td>51</td>\n      <td>new_customers</td>\n    </tr>\n  </tbody>\n</table>\n</div>"
     },
     "execution_count": 87,
     "metadata": {},
     "output_type": "execute_result"
    }
   ],
   "source": [
    "rfm.head(10)"
   ],
   "metadata": {
    "collapsed": false
   }
  },
  {
   "cell_type": "code",
   "execution_count": 88,
   "outputs": [],
   "source": [
    "def create_rfm(dataframe):\n",
    "    today_date = dt.datetime(2021, 6, 1)\n",
    "\n",
    "    rfm = df.groupby('master_id').agg(\n",
    "        {'last_order_date': lambda last_order_date: (today_date - last_order_date.max()).days,\n",
    "         'total_transaction': lambda x: x,\n",
    "         'total_price': lambda x: x})\n",
    "\n",
    "    rfm.columns = ['recency', 'frequency', 'monetary']\n",
    "\n",
    "    rfm['recency_score'] = pd.qcut(rfm['recency'], 5, labels=[5, 4, 3, 2, 1])\n",
    "\n",
    "    rfm['frequency_score'] = pd.qcut(rfm['frequency'].rank(method='first'), 5, labels=[1, 2, 3, 4, 5])\n",
    "\n",
    "    rfm['monetary_score'] = pd.qcut(rfm['monetary'], 5, labels=[1, 2, 3, 4, 5])\n",
    "\n",
    "    rfm['RF_SCORE'] = (rfm['recency_score'].astype(str) + rfm['frequency_score'].astype(str))\n",
    "\n",
    "    seg_map = {\n",
    "        r'[1-2][1-2]': 'hibernating',\n",
    "        r'[1-2][3-4]': 'at_Risk',\n",
    "        r'[1-2]5': 'cant_loose',\n",
    "        r'3[1-2]': 'about_to_sleep',\n",
    "        r'33': 'need_attention',\n",
    "        r'[3-4][4-5]': 'loyal_customers',\n",
    "        r'41': 'promising',\n",
    "        r'51': 'new_customers',\n",
    "        r'[4-5][2-3]': 'potential_loyalists',\n",
    "        r'5[4-5]': 'champions'\n",
    "    }\n",
    "\n",
    "    rfm['segment'] = rfm['RF_SCORE'].replace(seg_map, regex=True)\n",
    "\n",
    "    return rfm"
   ],
   "metadata": {
    "collapsed": false
   }
  },
  {
   "cell_type": "code",
   "execution_count": 89,
   "outputs": [
    {
     "data": {
      "text/plain": "                                      recency  frequency  monetary recency_score frequency_score monetary_score RF_SCORE              segment\nmaster_id                                                                                                                                    \n00016786-2f5a-11ea-bb80-000d3a38a36f       10        5.0   1979.33             5               4              4       54            champions\n00034aaa-a838-11e9-a2fc-000d3a38a36f      298        3.0    419.95             1               2              2       12          hibernating\n000be838-85df-11ea-a90b-000d3a38a36f      213        4.0   1436.63             2               3              3       23              at_Risk\n000c1fe2-a8b7-11ea-8479-000d3a38a36f       27        7.0   3153.67             5               4              4       54            champions\n000f5e3e-9dde-11ea-80cd-000d3a38a36f       20        7.0   7201.71             5               4              5       54            champions\n00136ce2-a562-11e9-a2fc-000d3a38a36f      203        2.0    359.45             2               1              1       21          hibernating\n00142f9a-7af6-11eb-8460-000d3a38a36f       25        3.0    640.90             5               2              2       52  potential_loyalists\n0014778a-5b11-11ea-9a2c-000d3a38a36f       26        3.0   1334.87             5               2              3       52  potential_loyalists\n0018c6aa-ab6c-11e9-a2fc-000d3a38a36f      126        2.0    317.91             3               1              1       31       about_to_sleep\n0022f41e-5597-11eb-9e65-000d3a38a36f       12        2.0    154.98             5               1              1       51        new_customers",
      "text/html": "<div>\n<style scoped>\n    .dataframe tbody tr th:only-of-type {\n        vertical-align: middle;\n    }\n\n    .dataframe tbody tr th {\n        vertical-align: top;\n    }\n\n    .dataframe thead th {\n        text-align: right;\n    }\n</style>\n<table border=\"1\" class=\"dataframe\">\n  <thead>\n    <tr style=\"text-align: right;\">\n      <th></th>\n      <th>recency</th>\n      <th>frequency</th>\n      <th>monetary</th>\n      <th>recency_score</th>\n      <th>frequency_score</th>\n      <th>monetary_score</th>\n      <th>RF_SCORE</th>\n      <th>segment</th>\n    </tr>\n    <tr>\n      <th>master_id</th>\n      <th></th>\n      <th></th>\n      <th></th>\n      <th></th>\n      <th></th>\n      <th></th>\n      <th></th>\n      <th></th>\n    </tr>\n  </thead>\n  <tbody>\n    <tr>\n      <th>00016786-2f5a-11ea-bb80-000d3a38a36f</th>\n      <td>10</td>\n      <td>5.0</td>\n      <td>1979.33</td>\n      <td>5</td>\n      <td>4</td>\n      <td>4</td>\n      <td>54</td>\n      <td>champions</td>\n    </tr>\n    <tr>\n      <th>00034aaa-a838-11e9-a2fc-000d3a38a36f</th>\n      <td>298</td>\n      <td>3.0</td>\n      <td>419.95</td>\n      <td>1</td>\n      <td>2</td>\n      <td>2</td>\n      <td>12</td>\n      <td>hibernating</td>\n    </tr>\n    <tr>\n      <th>000be838-85df-11ea-a90b-000d3a38a36f</th>\n      <td>213</td>\n      <td>4.0</td>\n      <td>1436.63</td>\n      <td>2</td>\n      <td>3</td>\n      <td>3</td>\n      <td>23</td>\n      <td>at_Risk</td>\n    </tr>\n    <tr>\n      <th>000c1fe2-a8b7-11ea-8479-000d3a38a36f</th>\n      <td>27</td>\n      <td>7.0</td>\n      <td>3153.67</td>\n      <td>5</td>\n      <td>4</td>\n      <td>4</td>\n      <td>54</td>\n      <td>champions</td>\n    </tr>\n    <tr>\n      <th>000f5e3e-9dde-11ea-80cd-000d3a38a36f</th>\n      <td>20</td>\n      <td>7.0</td>\n      <td>7201.71</td>\n      <td>5</td>\n      <td>4</td>\n      <td>5</td>\n      <td>54</td>\n      <td>champions</td>\n    </tr>\n    <tr>\n      <th>00136ce2-a562-11e9-a2fc-000d3a38a36f</th>\n      <td>203</td>\n      <td>2.0</td>\n      <td>359.45</td>\n      <td>2</td>\n      <td>1</td>\n      <td>1</td>\n      <td>21</td>\n      <td>hibernating</td>\n    </tr>\n    <tr>\n      <th>00142f9a-7af6-11eb-8460-000d3a38a36f</th>\n      <td>25</td>\n      <td>3.0</td>\n      <td>640.90</td>\n      <td>5</td>\n      <td>2</td>\n      <td>2</td>\n      <td>52</td>\n      <td>potential_loyalists</td>\n    </tr>\n    <tr>\n      <th>0014778a-5b11-11ea-9a2c-000d3a38a36f</th>\n      <td>26</td>\n      <td>3.0</td>\n      <td>1334.87</td>\n      <td>5</td>\n      <td>2</td>\n      <td>3</td>\n      <td>52</td>\n      <td>potential_loyalists</td>\n    </tr>\n    <tr>\n      <th>0018c6aa-ab6c-11e9-a2fc-000d3a38a36f</th>\n      <td>126</td>\n      <td>2.0</td>\n      <td>317.91</td>\n      <td>3</td>\n      <td>1</td>\n      <td>1</td>\n      <td>31</td>\n      <td>about_to_sleep</td>\n    </tr>\n    <tr>\n      <th>0022f41e-5597-11eb-9e65-000d3a38a36f</th>\n      <td>12</td>\n      <td>2.0</td>\n      <td>154.98</td>\n      <td>5</td>\n      <td>1</td>\n      <td>1</td>\n      <td>51</td>\n      <td>new_customers</td>\n    </tr>\n  </tbody>\n</table>\n</div>"
     },
     "execution_count": 89,
     "metadata": {},
     "output_type": "execute_result"
    }
   ],
   "source": [
    "create_rfm(rfm).head(10)"
   ],
   "metadata": {
    "collapsed": false
   }
  },
  {
   "cell_type": "markdown",
   "source": [
    "**#############################################**"
   ],
   "metadata": {
    "collapsed": false
   }
  },
  {
   "cell_type": "markdown",
   "source": [
    "**Adım 1:** Segmentlerin recency, frequnecy ve monetary ortalamalarını inceleyiniz."
   ],
   "metadata": {
    "collapsed": false
   }
  },
  {
   "cell_type": "code",
   "execution_count": 90,
   "outputs": [
    {
     "data": {
      "text/plain": "                        recency        frequency            monetary      \n                           mean count       mean count          mean count\nsegment                                                                   \nabout_to_sleep       114.031649  1643   2.406573  1643    481.624607  1643\nat_Risk              242.328997  3152   4.470178  3152   1829.340060  3152\ncant_loose           235.159129  1194  10.716918  1194  16088.820159  1194\nchampions             17.142187  1920   8.965104  1920  19499.284328  1920\nhibernating          247.426303  3589   2.391474  3589    480.075497  3589\nloyal_customers       82.557926  3375   8.356444  3375  10954.100859  3375\nneed_attention       113.037221   806   3.739454   806   1211.415124   806\nnew_customers         17.976226   673   2.000000   673    344.049495   673\npotential_loyalists   36.869744  2925   3.310769  2925   1046.014968  2925\npromising             58.694611   668   2.000000   668    334.153338   668",
      "text/html": "<div>\n<style scoped>\n    .dataframe tbody tr th:only-of-type {\n        vertical-align: middle;\n    }\n\n    .dataframe tbody tr th {\n        vertical-align: top;\n    }\n\n    .dataframe thead tr th {\n        text-align: left;\n    }\n\n    .dataframe thead tr:last-of-type th {\n        text-align: right;\n    }\n</style>\n<table border=\"1\" class=\"dataframe\">\n  <thead>\n    <tr>\n      <th></th>\n      <th colspan=\"2\" halign=\"left\">recency</th>\n      <th colspan=\"2\" halign=\"left\">frequency</th>\n      <th colspan=\"2\" halign=\"left\">monetary</th>\n    </tr>\n    <tr>\n      <th></th>\n      <th>mean</th>\n      <th>count</th>\n      <th>mean</th>\n      <th>count</th>\n      <th>mean</th>\n      <th>count</th>\n    </tr>\n    <tr>\n      <th>segment</th>\n      <th></th>\n      <th></th>\n      <th></th>\n      <th></th>\n      <th></th>\n      <th></th>\n    </tr>\n  </thead>\n  <tbody>\n    <tr>\n      <th>about_to_sleep</th>\n      <td>114.031649</td>\n      <td>1643</td>\n      <td>2.406573</td>\n      <td>1643</td>\n      <td>481.624607</td>\n      <td>1643</td>\n    </tr>\n    <tr>\n      <th>at_Risk</th>\n      <td>242.328997</td>\n      <td>3152</td>\n      <td>4.470178</td>\n      <td>3152</td>\n      <td>1829.340060</td>\n      <td>3152</td>\n    </tr>\n    <tr>\n      <th>cant_loose</th>\n      <td>235.159129</td>\n      <td>1194</td>\n      <td>10.716918</td>\n      <td>1194</td>\n      <td>16088.820159</td>\n      <td>1194</td>\n    </tr>\n    <tr>\n      <th>champions</th>\n      <td>17.142187</td>\n      <td>1920</td>\n      <td>8.965104</td>\n      <td>1920</td>\n      <td>19499.284328</td>\n      <td>1920</td>\n    </tr>\n    <tr>\n      <th>hibernating</th>\n      <td>247.426303</td>\n      <td>3589</td>\n      <td>2.391474</td>\n      <td>3589</td>\n      <td>480.075497</td>\n      <td>3589</td>\n    </tr>\n    <tr>\n      <th>loyal_customers</th>\n      <td>82.557926</td>\n      <td>3375</td>\n      <td>8.356444</td>\n      <td>3375</td>\n      <td>10954.100859</td>\n      <td>3375</td>\n    </tr>\n    <tr>\n      <th>need_attention</th>\n      <td>113.037221</td>\n      <td>806</td>\n      <td>3.739454</td>\n      <td>806</td>\n      <td>1211.415124</td>\n      <td>806</td>\n    </tr>\n    <tr>\n      <th>new_customers</th>\n      <td>17.976226</td>\n      <td>673</td>\n      <td>2.000000</td>\n      <td>673</td>\n      <td>344.049495</td>\n      <td>673</td>\n    </tr>\n    <tr>\n      <th>potential_loyalists</th>\n      <td>36.869744</td>\n      <td>2925</td>\n      <td>3.310769</td>\n      <td>2925</td>\n      <td>1046.014968</td>\n      <td>2925</td>\n    </tr>\n    <tr>\n      <th>promising</th>\n      <td>58.694611</td>\n      <td>668</td>\n      <td>2.000000</td>\n      <td>668</td>\n      <td>334.153338</td>\n      <td>668</td>\n    </tr>\n  </tbody>\n</table>\n</div>"
     },
     "execution_count": 90,
     "metadata": {},
     "output_type": "execute_result"
    }
   ],
   "source": [
    "rfm[['segment', 'recency', 'frequency', 'monetary']].groupby('segment').agg(['mean', 'count'])"
   ],
   "metadata": {
    "collapsed": false
   }
  },
  {
   "cell_type": "markdown",
   "source": [
    "**Adım 2:** RFM analizi yardımıyla aşağıda verilen 2 case için ilgili profildeki müşterileri bulun ve müşteri id'lerini csv olarak kaydediniz.\n",
    "\n",
    "\n",
    "**a.** FLO bünyesine yeni bir kadın ayakkabı markası dahil ediyor. Dahil ettiği markanın ürün fiyatları genel müşteri tercihlerinin üstünde. Bu nedenle markanın tanıtımı ve ürün satışları için ilgilenecek profildeki müşterilerle özel olarak iletişime geçmek isteniliyor. Sadık müşterilerinden(champions, loyal_customers) ve kadın kategorisinden alışveriş yapan kişiler özel olarak iletişim kurulacak müşteriler. Bu müşterilerin id numaralarını csv dosyasına kaydediniz.\n",
    "\n",
    "**b.** Erkek ve Çocuk ürünlerinde %40'a yakın indirim planlanmaktadır. Bu indirimle ilgili kategorilerle ilgilenen geçmişte iyi müşteri olan ama uzun süredir alışveriş yapmayan kaybedilmemesi gereken müşteriler, uykuda olanlar ve yeni gelen müşteriler özel olarak hedef alınmak isteniyor. Uygun profildeki müşterilerin id'lerini csv dosyasına kaydediniz."
   ],
   "metadata": {
    "collapsed": false
   }
  },
  {
   "cell_type": "code",
   "execution_count": 99,
   "outputs": [],
   "source": [
    "type_a_customers = rfm.loc[\n",
    "    (rfm['segment'] == 'champions') | (rfm['segment'] == 'loyal_customers') & rfm[\n",
    "        'interested_cats'].str.contains(\n",
    "        'KADIN')].reset_index()"
   ],
   "metadata": {
    "collapsed": false
   }
  },
  {
   "cell_type": "code",
   "execution_count": 100,
   "outputs": [],
   "source": [
    "type_a_customers['master_id'].to_csv('type_a_customers.csv')"
   ],
   "metadata": {
    "collapsed": false
   }
  },
  {
   "cell_type": "code",
   "execution_count": 101,
   "outputs": [],
   "source": [
    "type_b_customers = rfm.loc[\n",
    "    (rfm['segment'] == 'cant_loose') | (rfm['segment'] == 'hibernating') | (rfm['segment'] == 'new_customers')].reset_index()"
   ],
   "metadata": {
    "collapsed": false
   }
  },
  {
   "cell_type": "code",
   "execution_count": 102,
   "outputs": [],
   "source": [
    "type_b_customers['master_id'].to_csv('type_b_customers.csv')"
   ],
   "metadata": {
    "collapsed": false
   }
  }
 ],
 "metadata": {
  "kernelspec": {
   "display_name": "Python 3",
   "language": "python",
   "name": "python3"
  },
  "language_info": {
   "codemirror_mode": {
    "name": "ipython",
    "version": 2
   },
   "file_extension": ".py",
   "mimetype": "text/x-python",
   "name": "python",
   "nbconvert_exporter": "python",
   "pygments_lexer": "ipython2",
   "version": "2.7.6"
  }
 },
 "nbformat": 4,
 "nbformat_minor": 0
}
